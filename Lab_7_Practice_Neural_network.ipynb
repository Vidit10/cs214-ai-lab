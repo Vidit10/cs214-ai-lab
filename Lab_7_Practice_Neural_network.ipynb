{
  "cells": [
    {
      "cell_type": "code",
      "execution_count": null,
      "metadata": {
        "id": "UA7Cw3V2rNkN"
      },
      "outputs": [],
      "source": [
        "import torch\n",
        "import torch.nn as nn\n",
        "import torch.optim as optim\n",
        "import pandas as pd\n",
        "from sklearn.preprocessing import StandardScaler\n",
        "from sklearn.metrics import confusion_matrix, accuracy_score, precision_score, recall_score, f1_score"
      ]
    },
    {
      "cell_type": "code",
      "execution_count": null,
      "metadata": {
        "id": "SLukJ9EsrXV-"
      },
      "outputs": [],
      "source": [
        "# Step 1: Load your data from CSV files\n",
        "# Replace 'DiabeticRetinopathy_train.csv', 'DiabeticRetinopathy_validation.csv', 'DiabeticRetinopathy_test.csv' with actual file paths\n",
        "train_data = pd.read_csv('DiabeticRetinopathy_train.csv')\n",
        "validation_data = pd.read_csv('DiabeticRetinopathy_validation.csv')\n",
        "test_data = pd.read_csv('DiabeticRetinopathy_test.csv')"
      ]
    },
    {
      "cell_type": "code",
      "execution_count": null,
      "metadata": {
        "id": "hTnLPeMhrXYo"
      },
      "outputs": [],
      "source": [
        "# Step 2: Prepare input feature vectors (X) and target/class vectors (y)\n",
        "# Assume the last column is the class label, and the rest are features\n",
        "X_train = train_data.iloc[:, :-1].values\n",
        "y_train = train_data.iloc[:, -1].values\n",
        "X_val = validation_data.iloc[:, :-1].values\n",
        "y_val = validation_data.iloc[:, -1].values\n",
        "X_test = test_data.iloc[:, :-1].values\n",
        "y_test = test_data.iloc[:, -1].values"
      ]
    },
    {
      "cell_type": "code",
      "execution_count": null,
      "metadata": {
        "id": "4Ti6ajFtq3-g"
      },
      "outputs": [],
      "source": [
        "# Step 3: Standardize the feature data\n",
        "scaler = StandardScaler()\n",
        "X_train = scaler.fit_transform(X_train)\n",
        "X_val = scaler.transform(X_val)\n",
        "X_test = scaler.transform(X_test)\n",
        "\n",
        "# Convert data to PyTorch tensors\n",
        "X_train, y_train = torch.tensor(X_train, dtype=torch.float32), torch.tensor(y_train, dtype=torch.float32).view(-1, 1)\n",
        "X_val, y_val = torch.tensor(X_val, dtype=torch.float32), torch.tensor(y_val, dtype=torch.float32).view(-1, 1)\n",
        "X_test, y_test = torch.tensor(X_test, dtype=torch.float32), torch.tensor(y_test, dtype=torch.float32).view(-1, 1)"
      ]
    },
    {
      "cell_type": "markdown",
      "metadata": {
        "id": "m9LMbF8qk7y3"
      },
      "source": [
        "## **Neural Network Implementation**"
      ]
    },
    {
      "cell_type": "code",
      "execution_count": null,
      "metadata": {
        "id": "mOfd6LrqrXbQ"
      },
      "outputs": [],
      "source": [
        "# Step 4: Define the Neural Network model\n",
        "# Architecture example: Input Layer -> Hidden Layer (64) -> Output Layer\n",
        "class NeuralNet(nn.Module):\n",
        "    def __init__(self, input_size, hidden_layers):\n",
        "        super(NeuralNet, self).__init__()\n",
        "        layers = []\n",
        "        prev_size = input_size\n",
        "        for layer_size in hidden_layers:\n",
        "            layers.append(nn.Linear(prev_size, layer_size))\n",
        "            layers.append(nn.Sigmoid())\n",
        "            prev_size = layer_size\n",
        "        layers.append(nn.Linear(prev_size, 1))\n",
        "        layers.append(nn.Sigmoid())\n",
        "        self.model = nn.Sequential(*layers)\n",
        "\n",
        "    def forward(self, x):\n",
        "        return self.model(x)"
      ]
    },
    {
      "cell_type": "code",
      "execution_count": null,
      "metadata": {},
      "outputs": [],
      "source": [
        "# Step 5: Training function\n",
        "def train_model(model, criterion, optimizer, epochs=100):\n",
        "    train_losses = []\n",
        "    for epoch in range(epochs):\n",
        "        model.train()\n",
        "        epoch_loss = 0\n",
        "        \n",
        "        for inputs, labels in train_loader:\n",
        "            optimizer.zero_grad()\n",
        "            outputs = model(inputs)\n",
        "            loss = criterion(outputs, labels)\n",
        "            loss.backward()\n",
        "            optimizer.step()\n",
        "            epoch_loss += loss.item()\n",
        "            \n",
        "        train_losses.append(epoch_loss / len(train_loader.dataset))\n",
        "        \n",
        "        if (epoch+1) % 10 == 0:\n",
        "            print(f'Epoch [{epoch+1}/{epochs}], Loss: {train_losses[-1]:.4f}')\n",
        "    \n",
        "    return train_losses\n",
        "\n",
        "# Step 6: Evaluation function\n",
        "def evaluate_model(model, X, y):\n",
        "    model.eval()\n",
        "    with torch.no_grad():\n",
        "        outputs = model(X)\n",
        "        predicted = (outputs >= 0.5).float()\n",
        "        y_np = y.numpy().flatten()\n",
        "        pred_np = predicted.numpy().flatten()\n",
        "        \n",
        "        return {\n",
        "            'confusion_matrix': confusion_matrix(y_np, pred_np),\n",
        "            'accuracy': accuracy_score(y_np, pred_np),\n",
        "            'precision': precision_score(y_np, pred_np),\n",
        "            'recall': recall_score(y_np, pred_np),\n",
        "            'f1': f1_score(y_np, pred_np)\n",
        "        }"
      ]
    },
    {
      "cell_type": "code",
      "execution_count": null,
      "metadata": {},
      "outputs": [],
      "source": [
        "# Step 7: Define architectures to test\n",
        "architectures = [\n",
        "    # Single hidden layer architectures\n",
        "    {'name': '10-neuron', 'layers': [10]},\n",
        "    {'name': '100-neuron', 'layers': [100]},\n",
        "    {'name': '64-neuron', 'layers': [64]},\n",
        "    {'name': '512-neuron', 'layers': [512]},\n",
        "    \n",
        "    # Two hidden layer architectures\n",
        "    {'name': '64->16', 'layers': [64, 16]},\n",
        "    {'name': '128->32', 'layers': [128, 32]},\n",
        "    {'name': '256->64', 'layers': [256, 64]},\n",
        "    {'name': '512->128', 'layers': [512, 128]}\n",
        "]\n",
        "\n",
        "# Step 8: Train and evaluate models\n",
        "results = []\n",
        "best_model = None\n",
        "best_f1 = 0\n",
        "\n",
        "for arch in architectures:\n",
        "    print(f\"\\n=== Training {arch['name']} Architecture ===\")\n",
        "    \n",
        "    # Initialize model\n",
        "    model = NeuralNet(input_size=19, hidden_layers=arch['layers'])\n",
        "    criterion = nn.MSELoss(reduction='sum')  # SSE Loss\n",
        "    optimizer = optim.SGD(model.parameters(), lr=0.01)\n",
        "    \n",
        "    # Train model\n",
        "    train_losses = train_model(model, criterion, optimizer, epochs=100)\n",
        "    \n",
        "    # Evaluate\n",
        "    val_metrics = evaluate_model(model, X_val, y_val)\n",
        "    test_metrics = evaluate_model(model, X_test, y_test)\n",
        "    \n",
        "    # Store results\n",
        "    results.append({\n",
        "        'architecture': arch['name'],\n",
        "        'train_loss': train_losses[-1],\n",
        "        'val_accuracy': val_metrics['accuracy'],\n",
        "        'val_f1': val_metrics['f1'],\n",
        "        'test_accuracy': test_metrics['accuracy'],\n",
        "        'test_f1': test_metrics['f1']\n",
        "    })\n",
        "    \n",
        "    # Track best model\n",
        "    if val_metrics['f1'] > best_f1:\n",
        "        best_f1 = val_metrics['f1']\n",
        "        best_model = model\n",
        "        \n",
        "    # Print metrics\n",
        "    print(f\"\\n{arch['name']} Validation Metrics:\")\n",
        "    print(f\"Accuracy: {val_metrics['accuracy']:.4f}, F1: {val_metrics['f1']:.4f}\")\n",
        "    print(f\"Confusion Matrix:\\n{val_metrics['confusion_matrix']}\")\n",
        "    \n",
        "    print(f\"\\n{arch['name']} Test Metrics:\")\n",
        "    print(f\"Accuracy: {test_metrics['accuracy']:.4f}, F1: {test_metrics['f1']:.4f}\")\n",
        "    print(f\"Confusion Matrix:\\n{test_metrics['confusion_matrix']}\")\n"
      ]
    },
    {
      "cell_type": "code",
      "execution_count": null,
      "metadata": {},
      "outputs": [],
      "source": [
        "# Step 9: Visualize results\n",
        "results_df = pd.DataFrame(results)\n",
        "\n",
        "# Plot performance comparison\n",
        "plt.figure(figsize=(12, 6))\n",
        "plt.subplot(1, 2, 1)\n",
        "plt.bar(results_df['architecture'], results_df['val_f1'])\n",
        "plt.title('Validation F1-Score by Architecture')\n",
        "plt.xticks(rotation=45, ha='right')\n",
        "\n",
        "plt.subplot(1, 2, 2)\n",
        "plt.bar(results_df['architecture'], results_df['test_f1'])\n",
        "plt.title('Test F1-Score by Architecture')\n",
        "plt.xticks(rotation=45, ha='right')\n",
        "plt.tight_layout()\n",
        "plt.show()\n",
        "\n",
        "# Display best model results\n",
        "best_result = results_df[results_df['val_f1'] == best_f1].iloc[0]\n",
        "print(f\"\\nBest Architecture: {best_result['architecture']}\")\n",
        "print(f\"Validation F1: {best_result['val_f1']:.4f}\")\n",
        "print(f\"Test F1: {best_result['test_f1']:.4f}\")\n"
      ]
    },
    {
      "cell_type": "markdown",
      "metadata": {
        "id": "PcCJvwCuprnq"
      },
      "source": [
        "\n",
        "## Step 5: Initialize the model with different architectures\n",
        "### Example: model = NeuralNet(input_size=19, hidden_layers=[64, 16])\n",
        "\n",
        "## Step 6: Define Loss Function and Optimizer\n",
        "### criterion = nn.MSELoss()\n",
        "### optimizer = optim.SGD(model.parameters(), lr=0.01)\n",
        "\n",
        "## Step 7: Train the model using training data.\n",
        "### Perform forward pass, compute loss, backpropagate, and update weights.\n",
        "\n",
        "## Step 8: Evaluate the model on validation and test data.\n",
        "### Compute confusion matrix, accuracy, precision, recall, and F1-score.\n",
        "\n",
        "## Step 9: Experiment with different architectures and analyze the results.\n",
        "\n",
        "## Step 10: Visualize training loss and performance metrics for comparison."
      ]
    }
  ],
  "metadata": {
    "colab": {
      "provenance": []
    },
    "kernelspec": {
      "display_name": "Python 3",
      "name": "python3"
    },
    "language_info": {
      "name": "python"
    }
  },
  "nbformat": 4,
  "nbformat_minor": 0
}
